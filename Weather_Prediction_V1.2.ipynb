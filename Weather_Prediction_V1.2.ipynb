{
  "nbformat": 4,
  "nbformat_minor": 0,
  "metadata": {
    "colab": {
      "provenance": [],
      "authorship_tag": "ABX9TyNnHoUXTGogxZEUYsnp9ZvZ",
      "include_colab_link": true
    },
    "kernelspec": {
      "name": "python3",
      "display_name": "Python 3"
    },
    "language_info": {
      "name": "python"
    }
  },
  "cells": [
    {
      "cell_type": "markdown",
      "metadata": {
        "id": "view-in-github",
        "colab_type": "text"
      },
      "source": [
        "<a href=\"https://colab.research.google.com/github/GovindSantoshS/Software_Engineering_lab/blob/Lab-Experiments/Weather_Prediction_V1.2.ipynb\" target=\"_parent\"><img src=\"https://colab.research.google.com/assets/colab-badge.svg\" alt=\"Open In Colab\"/></a>"
      ]
    },
    {
      "cell_type": "code",
      "execution_count": 5,
      "metadata": {
        "colab": {
          "base_uri": "https://localhost:8080/"
        },
        "id": "iYMWlMHFaaf2",
        "outputId": "2810fa18-3279-40fa-f8bd-3c828780c903"
      },
      "outputs": [
        {
          "output_type": "stream",
          "name": "stdout",
          "text": [
            "Sunny\n"
          ]
        }
      ],
      "source": [
        "t = 15\n",
        "h = 25\n",
        "wind =35\n",
        "w = 0.5 * (t ** 2) - (0.2 * h) + (0.1 * wind) - 15\n",
        "if w > 10:\n",
        "    print(\"Sunny\")\n",
        "elif 0 <= w <= 10:\n",
        "    print(\"Windy\")\n",
        "elif -10 <= w < 0:\n",
        "    print(\"Cloud\")\n",
        "elif w < -10:\n",
        "    print(\"Rainy\")"
      ]
    }
  ]
}